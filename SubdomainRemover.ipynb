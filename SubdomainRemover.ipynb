{
 "cells": [
  {
   "cell_type": "code",
   "execution_count": 2,
   "id": "831821e5-703e-4c13-9344-e789d45ca155",
   "metadata": {},
   "outputs": [
    {
     "name": "stdout",
     "output_type": "stream",
     "text": [
      "Requirement already satisfied: pandas in c:\\users\\batul.u\\appdata\\local\\programs\\python\\python310\\lib\\site-packages (2.3.1)\n",
      "Requirement already satisfied: openpyxl in c:\\users\\batul.u\\appdata\\local\\programs\\python\\python310\\lib\\site-packages (3.1.5)\n",
      "Collecting tldextract\n",
      "  Downloading tldextract-5.3.0-py3-none-any.whl (107 kB)\n",
      "     ---------------------------------------- 0.0/107.4 kB ? eta -:--:--\n",
      "     -------------------------------------- 107.4/107.4 kB 3.1 MB/s eta 0:00:00\n",
      "Requirement already satisfied: pytz>=2020.1 in c:\\users\\batul.u\\appdata\\local\\programs\\python\\python310\\lib\\site-packages (from pandas) (2025.2)\n",
      "Requirement already satisfied: numpy>=1.22.4 in c:\\users\\batul.u\\appdata\\local\\programs\\python\\python310\\lib\\site-packages (from pandas) (2.1.3)\n",
      "Requirement already satisfied: python-dateutil>=2.8.2 in c:\\users\\batul.u\\appdata\\local\\programs\\python\\python310\\lib\\site-packages (from pandas) (2.9.0.post0)\n",
      "Requirement already satisfied: tzdata>=2022.7 in c:\\users\\batul.u\\appdata\\local\\programs\\python\\python310\\lib\\site-packages (from pandas) (2025.2)\n",
      "Requirement already satisfied: et-xmlfile in c:\\users\\batul.u\\appdata\\local\\programs\\python\\python310\\lib\\site-packages (from openpyxl) (2.0.0)\n",
      "Requirement already satisfied: requests>=2.1.0 in c:\\users\\batul.u\\appdata\\local\\programs\\python\\python310\\lib\\site-packages (from tldextract) (2.32.4)\n",
      "Requirement already satisfied: idna in c:\\users\\batul.u\\appdata\\local\\programs\\python\\python310\\lib\\site-packages (from tldextract) (3.10)\n",
      "Collecting filelock>=3.0.8\n",
      "  Downloading filelock-3.18.0-py3-none-any.whl (16 kB)\n",
      "Collecting requests-file>=1.4\n",
      "  Downloading requests_file-2.1.0-py2.py3-none-any.whl (4.2 kB)\n",
      "Requirement already satisfied: six>=1.5 in c:\\users\\batul.u\\appdata\\local\\programs\\python\\python310\\lib\\site-packages (from python-dateutil>=2.8.2->pandas) (1.17.0)\n",
      "Requirement already satisfied: certifi>=2017.4.17 in c:\\users\\batul.u\\appdata\\local\\programs\\python\\python310\\lib\\site-packages (from requests>=2.1.0->tldextract) (2025.7.14)\n",
      "Requirement already satisfied: urllib3<3,>=1.21.1 in c:\\users\\batul.u\\appdata\\local\\programs\\python\\python310\\lib\\site-packages (from requests>=2.1.0->tldextract) (2.5.0)\n",
      "Requirement already satisfied: charset_normalizer<4,>=2 in c:\\users\\batul.u\\appdata\\local\\programs\\python\\python310\\lib\\site-packages (from requests>=2.1.0->tldextract) (3.4.2)\n",
      "Installing collected packages: filelock, requests-file, tldextract\n",
      "Successfully installed filelock-3.18.0 requests-file-2.1.0 tldextract-5.3.0\n",
      "Note: you may need to restart the kernel to use updated packages.\n"
     ]
    },
    {
     "name": "stderr",
     "output_type": "stream",
     "text": [
      "\n",
      "[notice] A new release of pip is available: 23.0.1 -> 25.1.1\n",
      "[notice] To update, run: python.exe -m pip install --upgrade pip\n"
     ]
    }
   ],
   "source": [
    "pip install pandas openpyxl tldextract"
   ]
  },
  {
   "cell_type": "code",
   "execution_count": 13,
   "id": "6d4d197d-652e-4482-9b52-9630d6a4b36e",
   "metadata": {},
   "outputs": [
    {
     "name": "stdout",
     "output_type": "stream",
     "text": [
      "Processed file saved at output_test.xlsx\n"
     ]
    }
   ],
   "source": [
    "import pandas as pd\n",
    "import tldextract\n",
    "\n",
    "# Read the Excel file\n",
    "file_path = r\" \"  # <-- Replace with your file path\n",
    "df = pd.read_excel(file_path)\n",
    "\n",
    "def get_root_domain(url):\n",
    "    ext = tldextract.extract(url)\n",
    "    # ext.domain + ext.suffix gives the SLD + TLD (handles multi-level TLDs like gov.uk)\n",
    "    if ext.domain and ext.suffix:\n",
    "        return f\"{ext.domain}.{ext.suffix}\"\n",
    "    else:\n",
    "        return url  # If it fails to parse, return original\n",
    "\n",
    "# Apply function to the domain column\n",
    "df['Root Domain'] = df['Domain Name'].apply(get_root_domain)\n",
    "\n",
    "# Save to a new Excel file\n",
    "output_path = \"output_test.xlsx\"\n",
    "df.to_excel(output_path, index=False)\n",
    "\n",
    "print(f\"Processed file saved at {output_path}\")"
   ]
  }
 ],
 "metadata": {
  "kernelspec": {
   "display_name": "Python 3 (ipykernel)",
   "language": "python",
   "name": "python3"
  },
  "language_info": {
   "codemirror_mode": {
    "name": "ipython",
    "version": 3
   },
   "file_extension": ".py",
   "mimetype": "text/x-python",
   "name": "python",
   "nbconvert_exporter": "python",
   "pygments_lexer": "ipython3",
   "version": "3.10.11"
  }
 },
 "nbformat": 4,
 "nbformat_minor": 5
}
